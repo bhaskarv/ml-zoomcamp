{
 "cells": [
  {
   "cell_type": "code",
   "execution_count": 1,
   "id": "93dacd52-ba47-4766-9bbf-ec2951d909de",
   "metadata": {},
   "outputs": [],
   "source": [
    "import numpy as np\n",
    "import pandas as pd"
   ]
  },
  {
   "cell_type": "code",
   "execution_count": 2,
   "id": "50f2ecbd-166b-4ecb-8a8b-05ad5bf1c5b0",
   "metadata": {},
   "outputs": [
    {
     "data": {
      "text/html": [
       "<div>\n",
       "<style scoped>\n",
       "    .dataframe tbody tr th:only-of-type {\n",
       "        vertical-align: middle;\n",
       "    }\n",
       "\n",
       "    .dataframe tbody tr th {\n",
       "        vertical-align: top;\n",
       "    }\n",
       "\n",
       "    .dataframe thead th {\n",
       "        text-align: right;\n",
       "    }\n",
       "</style>\n",
       "<table border=\"1\" class=\"dataframe\">\n",
       "  <thead>\n",
       "    <tr style=\"text-align: right;\">\n",
       "      <th></th>\n",
       "      <th>Laptop</th>\n",
       "      <th>Status</th>\n",
       "      <th>Brand</th>\n",
       "      <th>Model</th>\n",
       "      <th>CPU</th>\n",
       "      <th>RAM</th>\n",
       "      <th>Storage</th>\n",
       "      <th>Storage type</th>\n",
       "      <th>GPU</th>\n",
       "      <th>Screen</th>\n",
       "      <th>Touch</th>\n",
       "      <th>Final Price</th>\n",
       "    </tr>\n",
       "  </thead>\n",
       "  <tbody>\n",
       "    <tr>\n",
       "      <th>0</th>\n",
       "      <td>ASUS ExpertBook B1 B1502CBA-EJ0436X Intel Core...</td>\n",
       "      <td>New</td>\n",
       "      <td>Asus</td>\n",
       "      <td>ExpertBook</td>\n",
       "      <td>Intel Core i5</td>\n",
       "      <td>8</td>\n",
       "      <td>512</td>\n",
       "      <td>SSD</td>\n",
       "      <td>NaN</td>\n",
       "      <td>15.6</td>\n",
       "      <td>No</td>\n",
       "      <td>1009.00</td>\n",
       "    </tr>\n",
       "    <tr>\n",
       "      <th>1</th>\n",
       "      <td>Alurin Go Start Intel Celeron N4020/8GB/256GB ...</td>\n",
       "      <td>New</td>\n",
       "      <td>Alurin</td>\n",
       "      <td>Go</td>\n",
       "      <td>Intel Celeron</td>\n",
       "      <td>8</td>\n",
       "      <td>256</td>\n",
       "      <td>SSD</td>\n",
       "      <td>NaN</td>\n",
       "      <td>15.6</td>\n",
       "      <td>No</td>\n",
       "      <td>299.00</td>\n",
       "    </tr>\n",
       "    <tr>\n",
       "      <th>2</th>\n",
       "      <td>ASUS ExpertBook B1 B1502CBA-EJ0424X Intel Core...</td>\n",
       "      <td>New</td>\n",
       "      <td>Asus</td>\n",
       "      <td>ExpertBook</td>\n",
       "      <td>Intel Core i3</td>\n",
       "      <td>8</td>\n",
       "      <td>256</td>\n",
       "      <td>SSD</td>\n",
       "      <td>NaN</td>\n",
       "      <td>15.6</td>\n",
       "      <td>No</td>\n",
       "      <td>789.00</td>\n",
       "    </tr>\n",
       "    <tr>\n",
       "      <th>3</th>\n",
       "      <td>MSI Katana GF66 12UC-082XES Intel Core i7-1270...</td>\n",
       "      <td>New</td>\n",
       "      <td>MSI</td>\n",
       "      <td>Katana</td>\n",
       "      <td>Intel Core i7</td>\n",
       "      <td>16</td>\n",
       "      <td>1000</td>\n",
       "      <td>SSD</td>\n",
       "      <td>RTX 3050</td>\n",
       "      <td>15.6</td>\n",
       "      <td>No</td>\n",
       "      <td>1199.00</td>\n",
       "    </tr>\n",
       "    <tr>\n",
       "      <th>4</th>\n",
       "      <td>HP 15S-FQ5085NS Intel Core i5-1235U/16GB/512GB...</td>\n",
       "      <td>New</td>\n",
       "      <td>HP</td>\n",
       "      <td>15S</td>\n",
       "      <td>Intel Core i5</td>\n",
       "      <td>16</td>\n",
       "      <td>512</td>\n",
       "      <td>SSD</td>\n",
       "      <td>NaN</td>\n",
       "      <td>15.6</td>\n",
       "      <td>No</td>\n",
       "      <td>669.01</td>\n",
       "    </tr>\n",
       "  </tbody>\n",
       "</table>\n",
       "</div>"
      ],
      "text/plain": [
       "                                              Laptop Status   Brand  \\\n",
       "0  ASUS ExpertBook B1 B1502CBA-EJ0436X Intel Core...    New    Asus   \n",
       "1  Alurin Go Start Intel Celeron N4020/8GB/256GB ...    New  Alurin   \n",
       "2  ASUS ExpertBook B1 B1502CBA-EJ0424X Intel Core...    New    Asus   \n",
       "3  MSI Katana GF66 12UC-082XES Intel Core i7-1270...    New     MSI   \n",
       "4  HP 15S-FQ5085NS Intel Core i5-1235U/16GB/512GB...    New      HP   \n",
       "\n",
       "        Model            CPU  RAM  Storage Storage type       GPU  Screen  \\\n",
       "0  ExpertBook  Intel Core i5    8      512          SSD       NaN    15.6   \n",
       "1          Go  Intel Celeron    8      256          SSD       NaN    15.6   \n",
       "2  ExpertBook  Intel Core i3    8      256          SSD       NaN    15.6   \n",
       "3      Katana  Intel Core i7   16     1000          SSD  RTX 3050    15.6   \n",
       "4         15S  Intel Core i5   16      512          SSD       NaN    15.6   \n",
       "\n",
       "  Touch  Final Price  \n",
       "0    No      1009.00  \n",
       "1    No       299.00  \n",
       "2    No       789.00  \n",
       "3    No      1199.00  \n",
       "4    No       669.01  "
      ]
     },
     "execution_count": 2,
     "metadata": {},
     "output_type": "execute_result"
    }
   ],
   "source": [
    "df = pd.read_csv('laptops.csv')\n",
    "df.head()"
   ]
  },
  {
   "cell_type": "code",
   "execution_count": 3,
   "id": "e3d75d10-db92-4360-a14e-459e6bb47973",
   "metadata": {},
   "outputs": [
    {
     "data": {
      "text/plain": [
       "Index(['laptop', 'status', 'brand', 'model', 'cpu', 'ram', 'storage',\n",
       "       'storage_type', 'gpu', 'screen', 'touch', 'final_price'],\n",
       "      dtype='object')"
      ]
     },
     "execution_count": 3,
     "metadata": {},
     "output_type": "execute_result"
    }
   ],
   "source": [
    "## we will normalize the column names of the dataset\n",
    "df.columns = df.columns.str.lower().str.replace(' ','_')\n",
    "df.columns"
   ]
  },
  {
   "cell_type": "code",
   "execution_count": 4,
   "id": "daeefaa5-f155-4a61-8caf-5d4e10a73509",
   "metadata": {},
   "outputs": [],
   "source": [
    "# consider only few elements as features\n",
    "df = df[['ram', 'storage','screen','final_price']]"
   ]
  },
  {
   "cell_type": "code",
   "execution_count": 5,
   "id": "444790a4-cf69-411b-88e4-129fb52f68f3",
   "metadata": {},
   "outputs": [
    {
     "data": {
      "text/plain": [
       "array([[   8.  ,  512.  ,   15.6 , 1009.  ],\n",
       "       [   8.  ,  256.  ,   15.6 ,  299.  ],\n",
       "       [   8.  ,  256.  ,   15.6 ,  789.  ],\n",
       "       ...,\n",
       "       [  32.  , 1000.  ,   17.3 , 3399.99],\n",
       "       [  16.  , 1000.  ,   13.4 , 1899.99],\n",
       "       [  16.  ,  256.  ,   13.4 , 1699.99]])"
      ]
     },
     "execution_count": 5,
     "metadata": {},
     "output_type": "execute_result"
    }
   ],
   "source": [
    "X = np.array(df[['ram', 'storage','screen','final_price']])\n",
    "X"
   ]
  },
  {
   "cell_type": "code",
   "execution_count": 6,
   "id": "34af88ac-9642-4e0a-ac6e-1a65050a36f3",
   "metadata": {},
   "outputs": [],
   "source": [
    "## EDA - Verify whether final_price column has long tain. For this we plot final_price using seaborn\n",
    "import matplotlib.pyplot as plt\n",
    "import seaborn as sns\n",
    "\n",
    "%matplotlib inline\n"
   ]
  },
  {
   "cell_type": "code",
   "execution_count": 7,
   "id": "72b1c796-5fa3-4acd-b007-0733eb46a83e",
   "metadata": {},
   "outputs": [
    {
     "data": {
      "image/png": "[encoded data removed]",
      "text/plain": [
       "<Figure size 640x480 with 1 Axes>"
      ]
     },
     "metadata": {},
     "output_type": "display_data"
    }
   ],
   "source": [
    "sns.histplot(df.final_price, bins=50)\n",
    "plt.show()\n"
   ]
  },
  {
   "cell_type": "code",
   "execution_count": 8,
   "id": "7965693f-aabc-4b74-ab30-6aeffd44e1a4",
   "metadata": {},
   "outputs": [],
   "source": [
    "## We see that there is long tail as there are quite a few laptops with price > 3000\n",
    "# Now lets apply log and see how the distribution looks\n"
   ]
  },
  {
   "cell_type": "code",
   "execution_count": 9,
   "id": "6df19287-b5fc-49e1-b17e-f952ab2be656",
   "metadata": {},
   "outputs": [
    {
     "data": {
      "image/png": "[encoded data removed]",
      "text/plain": [
       "<Figure size 640x480 with 1 Axes>"
      ]
     },
     "metadata": {},
     "output_type": "display_data"
    }
   ],
   "source": [
    "price_logs = np.log1p(df.final_price)\n",
    "sns.histplot(price_logs, bins=50)\n",
    "plt.show()\n"
   ]
  },
  {
   "cell_type": "code",
   "execution_count": 10,
   "id": "1a0ab9c3-3a2b-4d3b-842a-832257ae1afa",
   "metadata": {},
   "outputs": [],
   "source": [
    "# now we see a kind of bell curve which is ideal for generating models"
   ]
  },
  {
   "cell_type": "code",
   "execution_count": 11,
   "id": "2854fae5-7d80-4471-85a9-d22132482afb",
   "metadata": {},
   "outputs": [],
   "source": [
    "# Question 1. Identify column that has missing values  "
   ]
  },
  {
   "cell_type": "code",
   "execution_count": 12,
   "id": "2c480ce5-148e-4e68-b836-b836d2dd3ff0",
   "metadata": {},
   "outputs": [
    {
     "data": {
      "text/plain": [
       "['screen']"
      ]
     },
     "execution_count": 12,
     "metadata": {},
     "output_type": "execute_result"
    }
   ],
   "source": [
    "df.columns[df.isnull().any()].tolist()"
   ]
  },
  {
   "cell_type": "code",
   "execution_count": 13,
   "id": "cd64081f-d448-42f3-a85f-b7f9021324d7",
   "metadata": {},
   "outputs": [
    {
     "data": {
      "text/plain": [
       "array([1009.  ,  299.  ,  789.  , ..., 2699.99, 1899.99, 1699.99])"
      ]
     },
     "execution_count": 13,
     "metadata": {},
     "output_type": "execute_result"
    }
   ],
   "source": [
    "df.final_price.unique()"
   ]
  },
  {
   "cell_type": "code",
   "execution_count": 14,
   "id": "6f1143f0-bea0-48dd-a4f8-7a537b6b43f2",
   "metadata": {},
   "outputs": [],
   "source": [
    "# From the given optons in the question, the columns screen has missing values"
   ]
  },
  {
   "cell_type": "code",
   "execution_count": 15,
   "id": "5f88524c-e51d-4e2e-bea8-99056200b660",
   "metadata": {},
   "outputs": [
    {
     "data": {
      "text/plain": [
       "16"
      ]
     },
     "execution_count": 15,
     "metadata": {},
     "output_type": "execute_result"
    }
   ],
   "source": [
    "#2, what is the median value of column ram  - Ans 16\n",
    "int(df.ram.median())"
   ]
  },
  {
   "cell_type": "code",
   "execution_count": 16,
   "id": "d9f8750e-3e86-482f-b419-2e357c9451df",
   "metadata": {},
   "outputs": [
    {
     "data": {
      "text/plain": [
       "(432, 432, 1296)"
      ]
     },
     "execution_count": 16,
     "metadata": {},
     "output_type": "execute_result"
    }
   ],
   "source": [
    "## Now we prepare & split the dataset\n",
    "total = len(df)\n",
    "n_val = int(total * 0.2)\n",
    "n_test = int(total * 0.2)\n",
    "n_train = total - (n_val + n_test)\n",
    "\n",
    "n_val, n_test, n_train"
   ]
  },
  {
   "cell_type": "code",
   "execution_count": 17,
   "id": "a330c897-3095-49c9-96ca-b5729f36a6f5",
   "metadata": {},
   "outputs": [
    {
     "data": {
      "text/plain": [
       "array([2079,  668, 2073, ..., 1130, 1294,  860])"
      ]
     },
     "execution_count": 17,
     "metadata": {},
     "output_type": "execute_result"
    }
   ],
   "source": [
    "## Shuffle the data and then split into train, validat and test daatsets.\n",
    "idx = np.arange(total)\n",
    "np.random.seed(42)\n",
    "np.random.shuffle(idx)\n",
    "idx"
   ]
  },
  {
   "cell_type": "code",
   "execution_count": 18,
   "id": "75023ba5-6eac-49c5-921a-a4122cba4723",
   "metadata": {},
   "outputs": [
    {
     "data": {
      "text/plain": [
       "(1296, 432, 432)"
      ]
     },
     "execution_count": 18,
     "metadata": {},
     "output_type": "execute_result"
    }
   ],
   "source": [
    "# do the actul splitting of the data\n",
    "df_train = df.iloc[idx[:n_train]]\n",
    "df_val = df.iloc[idx[n_train:n_train + n_val]]\n",
    "df_test = df.iloc[idx[n_train + n_val : ]]\n",
    "\n",
    "len(df_train), len(df_val), len(df_test)"
   ]
  },
  {
   "cell_type": "code",
   "execution_count": 19,
   "id": "568d8e2f-b8af-4a20-8c46-20819a743659",
   "metadata": {},
   "outputs": [
    {
     "data": {
      "text/html": [
       "<div>\n",
       "<style scoped>\n",
       "    .dataframe tbody tr th:only-of-type {\n",
       "        vertical-align: middle;\n",
       "    }\n",
       "\n",
       "    .dataframe tbody tr th {\n",
       "        vertical-align: top;\n",
       "    }\n",
       "\n",
       "    .dataframe thead th {\n",
       "        text-align: right;\n",
       "    }\n",
       "</style>\n",
       "<table border=\"1\" class=\"dataframe\">\n",
       "  <thead>\n",
       "    <tr style=\"text-align: right;\">\n",
       "      <th></th>\n",
       "      <th>ram</th>\n",
       "      <th>storage</th>\n",
       "      <th>screen</th>\n",
       "      <th>final_price</th>\n",
       "    </tr>\n",
       "  </thead>\n",
       "  <tbody>\n",
       "    <tr>\n",
       "      <th>1925</th>\n",
       "      <td>32</td>\n",
       "      <td>1000</td>\n",
       "      <td>15.6</td>\n",
       "      <td>4805.65</td>\n",
       "    </tr>\n",
       "    <tr>\n",
       "      <th>612</th>\n",
       "      <td>16</td>\n",
       "      <td>512</td>\n",
       "      <td>13.0</td>\n",
       "      <td>2189.00</td>\n",
       "    </tr>\n",
       "    <tr>\n",
       "      <th>443</th>\n",
       "      <td>16</td>\n",
       "      <td>512</td>\n",
       "      <td>15.6</td>\n",
       "      <td>1349.00</td>\n",
       "    </tr>\n",
       "    <tr>\n",
       "      <th>1002</th>\n",
       "      <td>16</td>\n",
       "      <td>512</td>\n",
       "      <td>15.0</td>\n",
       "      <td>2175.83</td>\n",
       "    </tr>\n",
       "    <tr>\n",
       "      <th>1077</th>\n",
       "      <td>16</td>\n",
       "      <td>1000</td>\n",
       "      <td>15.6</td>\n",
       "      <td>1248.59</td>\n",
       "    </tr>\n",
       "    <tr>\n",
       "      <th>...</th>\n",
       "      <td>...</td>\n",
       "      <td>...</td>\n",
       "      <td>...</td>\n",
       "      <td>...</td>\n",
       "    </tr>\n",
       "    <tr>\n",
       "      <th>1638</th>\n",
       "      <td>8</td>\n",
       "      <td>512</td>\n",
       "      <td>15.0</td>\n",
       "      <td>1838.29</td>\n",
       "    </tr>\n",
       "    <tr>\n",
       "      <th>1095</th>\n",
       "      <td>8</td>\n",
       "      <td>256</td>\n",
       "      <td>15.6</td>\n",
       "      <td>531.80</td>\n",
       "    </tr>\n",
       "    <tr>\n",
       "      <th>1130</th>\n",
       "      <td>8</td>\n",
       "      <td>256</td>\n",
       "      <td>13.3</td>\n",
       "      <td>765.33</td>\n",
       "    </tr>\n",
       "    <tr>\n",
       "      <th>1294</th>\n",
       "      <td>8</td>\n",
       "      <td>512</td>\n",
       "      <td>14.0</td>\n",
       "      <td>803.61</td>\n",
       "    </tr>\n",
       "    <tr>\n",
       "      <th>860</th>\n",
       "      <td>32</td>\n",
       "      <td>1000</td>\n",
       "      <td>16.0</td>\n",
       "      <td>2102.18</td>\n",
       "    </tr>\n",
       "  </tbody>\n",
       "</table>\n",
       "<p>432 rows × 4 columns</p>\n",
       "</div>"
      ],
      "text/plain": [
       "      ram  storage  screen  final_price\n",
       "1925   32     1000    15.6      4805.65\n",
       "612    16      512    13.0      2189.00\n",
       "443    16      512    15.6      1349.00\n",
       "1002   16      512    15.0      2175.83\n",
       "1077   16     1000    15.6      1248.59\n",
       "...   ...      ...     ...          ...\n",
       "1638    8      512    15.0      1838.29\n",
       "1095    8      256    15.6       531.80\n",
       "1130    8      256    13.3       765.33\n",
       "1294    8      512    14.0       803.61\n",
       "860    32     1000    16.0      2102.18\n",
       "\n",
       "[432 rows x 4 columns]"
      ]
     },
     "execution_count": 19,
     "metadata": {},
     "output_type": "execute_result"
    }
   ],
   "source": [
    "df_test"
   ]
  },
  {
   "cell_type": "code",
   "execution_count": 20,
   "id": "9abcea77-6abe-4068-bc61-c08d17bd88e3",
   "metadata": {},
   "outputs": [
    {
     "data": {
      "text/html": [
       "<div>\n",
       "<style scoped>\n",
       "    .dataframe tbody tr th:only-of-type {\n",
       "        vertical-align: middle;\n",
       "    }\n",
       "\n",
       "    .dataframe tbody tr th {\n",
       "        vertical-align: top;\n",
       "    }\n",
       "\n",
       "    .dataframe thead th {\n",
       "        text-align: right;\n",
       "    }\n",
       "</style>\n",
       "<table border=\"1\" class=\"dataframe\">\n",
       "  <thead>\n",
       "    <tr style=\"text-align: right;\">\n",
       "      <th></th>\n",
       "      <th>ram</th>\n",
       "      <th>storage</th>\n",
       "      <th>screen</th>\n",
       "      <th>final_price</th>\n",
       "    </tr>\n",
       "  </thead>\n",
       "  <tbody>\n",
       "    <tr>\n",
       "      <th>2079</th>\n",
       "      <td>32</td>\n",
       "      <td>1000</td>\n",
       "      <td>15.6</td>\n",
       "      <td>1123.29</td>\n",
       "    </tr>\n",
       "    <tr>\n",
       "      <th>668</th>\n",
       "      <td>4</td>\n",
       "      <td>64</td>\n",
       "      <td>14.1</td>\n",
       "      <td>201.05</td>\n",
       "    </tr>\n",
       "    <tr>\n",
       "      <th>2073</th>\n",
       "      <td>32</td>\n",
       "      <td>1000</td>\n",
       "      <td>14.0</td>\n",
       "      <td>997.74</td>\n",
       "    </tr>\n",
       "    <tr>\n",
       "      <th>1113</th>\n",
       "      <td>16</td>\n",
       "      <td>512</td>\n",
       "      <td>13.3</td>\n",
       "      <td>1016.00</td>\n",
       "    </tr>\n",
       "    <tr>\n",
       "      <th>788</th>\n",
       "      <td>32</td>\n",
       "      <td>1000</td>\n",
       "      <td>16.0</td>\n",
       "      <td>2739.00</td>\n",
       "    </tr>\n",
       "    <tr>\n",
       "      <th>...</th>\n",
       "      <td>...</td>\n",
       "      <td>...</td>\n",
       "      <td>...</td>\n",
       "      <td>...</td>\n",
       "    </tr>\n",
       "    <tr>\n",
       "      <th>1777</th>\n",
       "      <td>8</td>\n",
       "      <td>256</td>\n",
       "      <td>14.0</td>\n",
       "      <td>549.00</td>\n",
       "    </tr>\n",
       "    <tr>\n",
       "      <th>183</th>\n",
       "      <td>32</td>\n",
       "      <td>1000</td>\n",
       "      <td>16.0</td>\n",
       "      <td>1999.00</td>\n",
       "    </tr>\n",
       "    <tr>\n",
       "      <th>137</th>\n",
       "      <td>16</td>\n",
       "      <td>512</td>\n",
       "      <td>15.6</td>\n",
       "      <td>1059.00</td>\n",
       "    </tr>\n",
       "    <tr>\n",
       "      <th>899</th>\n",
       "      <td>16</td>\n",
       "      <td>512</td>\n",
       "      <td>14.0</td>\n",
       "      <td>1671.00</td>\n",
       "    </tr>\n",
       "    <tr>\n",
       "      <th>796</th>\n",
       "      <td>16</td>\n",
       "      <td>512</td>\n",
       "      <td>14.0</td>\n",
       "      <td>1056.00</td>\n",
       "    </tr>\n",
       "  </tbody>\n",
       "</table>\n",
       "<p>1296 rows × 4 columns</p>\n",
       "</div>"
      ],
      "text/plain": [
       "      ram  storage  screen  final_price\n",
       "2079   32     1000    15.6      1123.29\n",
       "668     4       64    14.1       201.05\n",
       "2073   32     1000    14.0       997.74\n",
       "1113   16      512    13.3      1016.00\n",
       "788    32     1000    16.0      2739.00\n",
       "...   ...      ...     ...          ...\n",
       "1777    8      256    14.0       549.00\n",
       "183    32     1000    16.0      1999.00\n",
       "137    16      512    15.6      1059.00\n",
       "899    16      512    14.0      1671.00\n",
       "796    16      512    14.0      1056.00\n",
       "\n",
       "[1296 rows x 4 columns]"
      ]
     },
     "execution_count": 20,
     "metadata": {},
     "output_type": "execute_result"
    }
   ],
   "source": [
    "df_train"
   ]
  },
  {
   "cell_type": "code",
   "execution_count": 21,
   "id": "001022d1-0836-4d09-8e68-f9d93d0929ae",
   "metadata": {},
   "outputs": [],
   "source": [
    "# now reset the indices\n",
    "df_train = df_train.reset_index(drop=True)\n",
    "df_val = df_val.reset_index(drop=True)\n",
    "df_test = df_test.reset_index(drop=True)\n"
   ]
  },
  {
   "cell_type": "code",
   "execution_count": 22,
   "id": "73899710-52e0-483d-a9c7-c1dae2ce1b05",
   "metadata": {},
   "outputs": [
    {
     "data": {
      "text/html": [
       "<div>\n",
       "<style scoped>\n",
       "    .dataframe tbody tr th:only-of-type {\n",
       "        vertical-align: middle;\n",
       "    }\n",
       "\n",
       "    .dataframe tbody tr th {\n",
       "        vertical-align: top;\n",
       "    }\n",
       "\n",
       "    .dataframe thead th {\n",
       "        text-align: right;\n",
       "    }\n",
       "</style>\n",
       "<table border=\"1\" class=\"dataframe\">\n",
       "  <thead>\n",
       "    <tr style=\"text-align: right;\">\n",
       "      <th></th>\n",
       "      <th>ram</th>\n",
       "      <th>storage</th>\n",
       "      <th>screen</th>\n",
       "      <th>final_price</th>\n",
       "    </tr>\n",
       "  </thead>\n",
       "  <tbody>\n",
       "    <tr>\n",
       "      <th>0</th>\n",
       "      <td>32</td>\n",
       "      <td>1000</td>\n",
       "      <td>16.0</td>\n",
       "      <td>2599.00</td>\n",
       "    </tr>\n",
       "    <tr>\n",
       "      <th>1</th>\n",
       "      <td>16</td>\n",
       "      <td>512</td>\n",
       "      <td>15.6</td>\n",
       "      <td>999.00</td>\n",
       "    </tr>\n",
       "    <tr>\n",
       "      <th>2</th>\n",
       "      <td>12</td>\n",
       "      <td>512</td>\n",
       "      <td>15.6</td>\n",
       "      <td>477.28</td>\n",
       "    </tr>\n",
       "    <tr>\n",
       "      <th>3</th>\n",
       "      <td>8</td>\n",
       "      <td>256</td>\n",
       "      <td>13.6</td>\n",
       "      <td>1519.00</td>\n",
       "    </tr>\n",
       "    <tr>\n",
       "      <th>4</th>\n",
       "      <td>8</td>\n",
       "      <td>512</td>\n",
       "      <td>15.6</td>\n",
       "      <td>402.99</td>\n",
       "    </tr>\n",
       "    <tr>\n",
       "      <th>...</th>\n",
       "      <td>...</td>\n",
       "      <td>...</td>\n",
       "      <td>...</td>\n",
       "      <td>...</td>\n",
       "    </tr>\n",
       "    <tr>\n",
       "      <th>427</th>\n",
       "      <td>8</td>\n",
       "      <td>128</td>\n",
       "      <td>13.0</td>\n",
       "      <td>1049.00</td>\n",
       "    </tr>\n",
       "    <tr>\n",
       "      <th>428</th>\n",
       "      <td>8</td>\n",
       "      <td>256</td>\n",
       "      <td>13.3</td>\n",
       "      <td>799.00</td>\n",
       "    </tr>\n",
       "    <tr>\n",
       "      <th>429</th>\n",
       "      <td>8</td>\n",
       "      <td>512</td>\n",
       "      <td>14.0</td>\n",
       "      <td>565.54</td>\n",
       "    </tr>\n",
       "    <tr>\n",
       "      <th>430</th>\n",
       "      <td>16</td>\n",
       "      <td>512</td>\n",
       "      <td>14.0</td>\n",
       "      <td>738.00</td>\n",
       "    </tr>\n",
       "    <tr>\n",
       "      <th>431</th>\n",
       "      <td>4</td>\n",
       "      <td>64</td>\n",
       "      <td>14.0</td>\n",
       "      <td>452.00</td>\n",
       "    </tr>\n",
       "  </tbody>\n",
       "</table>\n",
       "<p>432 rows × 4 columns</p>\n",
       "</div>"
      ],
      "text/plain": [
       "     ram  storage  screen  final_price\n",
       "0     32     1000    16.0      2599.00\n",
       "1     16      512    15.6       999.00\n",
       "2     12      512    15.6       477.28\n",
       "3      8      256    13.6      1519.00\n",
       "4      8      512    15.6       402.99\n",
       "..   ...      ...     ...          ...\n",
       "427    8      128    13.0      1049.00\n",
       "428    8      256    13.3       799.00\n",
       "429    8      512    14.0       565.54\n",
       "430   16      512    14.0       738.00\n",
       "431    4       64    14.0       452.00\n",
       "\n",
       "[432 rows x 4 columns]"
      ]
     },
     "execution_count": 22,
     "metadata": {},
     "output_type": "execute_result"
    }
   ],
   "source": [
    "df_val"
   ]
  },
  {
   "cell_type": "code",
   "execution_count": 23,
   "id": "26a5d267-9bab-43b8-8e8b-b3870d25e642",
   "metadata": {},
   "outputs": [
    {
     "data": {
      "text/plain": [
       "(1296, 432, 432)"
      ]
     },
     "execution_count": 23,
     "metadata": {},
     "output_type": "execute_result"
    }
   ],
   "source": [
    "y_train = np.log1p(df_train.final_price.values)\n",
    "y_val = np.log1p(df_val.final_price.values)\n",
    "y_test = np.log1p(df_test.final_price.values)\n",
    "\n",
    "len(y_train), len(y_val), len(y_test)"
   ]
  },
  {
   "cell_type": "code",
   "execution_count": 24,
   "id": "3f0788a7-327e-4009-a51a-775c560ec3cb",
   "metadata": {},
   "outputs": [
    {
     "data": {
      "text/plain": [
       "array([7.024907  , 5.30851519, 6.90649448, ..., 6.96602419, 7.42177579,\n",
       "       6.96318999])"
      ]
     },
     "execution_count": 24,
     "metadata": {},
     "output_type": "execute_result"
    }
   ],
   "source": [
    "y_train"
   ]
  },
  {
   "cell_type": "code",
   "execution_count": 25,
   "id": "4470975b-8015-4638-9460-ea12837d19c0",
   "metadata": {},
   "outputs": [],
   "source": [
    "# now delete the final_proce variable from the train, test and val datasets. This is because we want to predict price\n",
    "# and so price should not be part of the input dataset\n",
    "del df_train['final_price']\n",
    "del df_test['final_price']\n",
    "del df_val['final_price']"
   ]
  },
  {
   "cell_type": "code",
   "execution_count": 26,
   "id": "aa966dcd-437d-4ae2-9d81-41f10951e1bb",
   "metadata": {},
   "outputs": [
    {
     "data": {
      "text/html": [
       "<div>\n",
       "<style scoped>\n",
       "    .dataframe tbody tr th:only-of-type {\n",
       "        vertical-align: middle;\n",
       "    }\n",
       "\n",
       "    .dataframe tbody tr th {\n",
       "        vertical-align: top;\n",
       "    }\n",
       "\n",
       "    .dataframe thead th {\n",
       "        text-align: right;\n",
       "    }\n",
       "</style>\n",
       "<table border=\"1\" class=\"dataframe\">\n",
       "  <thead>\n",
       "    <tr style=\"text-align: right;\">\n",
       "      <th></th>\n",
       "      <th>ram</th>\n",
       "      <th>storage</th>\n",
       "      <th>screen</th>\n",
       "    </tr>\n",
       "  </thead>\n",
       "  <tbody>\n",
       "    <tr>\n",
       "      <th>0</th>\n",
       "      <td>32</td>\n",
       "      <td>1000</td>\n",
       "      <td>15.6</td>\n",
       "    </tr>\n",
       "    <tr>\n",
       "      <th>1</th>\n",
       "      <td>4</td>\n",
       "      <td>64</td>\n",
       "      <td>14.1</td>\n",
       "    </tr>\n",
       "    <tr>\n",
       "      <th>2</th>\n",
       "      <td>32</td>\n",
       "      <td>1000</td>\n",
       "      <td>14.0</td>\n",
       "    </tr>\n",
       "    <tr>\n",
       "      <th>3</th>\n",
       "      <td>16</td>\n",
       "      <td>512</td>\n",
       "      <td>13.3</td>\n",
       "    </tr>\n",
       "    <tr>\n",
       "      <th>4</th>\n",
       "      <td>32</td>\n",
       "      <td>1000</td>\n",
       "      <td>16.0</td>\n",
       "    </tr>\n",
       "    <tr>\n",
       "      <th>...</th>\n",
       "      <td>...</td>\n",
       "      <td>...</td>\n",
       "      <td>...</td>\n",
       "    </tr>\n",
       "    <tr>\n",
       "      <th>1291</th>\n",
       "      <td>8</td>\n",
       "      <td>256</td>\n",
       "      <td>14.0</td>\n",
       "    </tr>\n",
       "    <tr>\n",
       "      <th>1292</th>\n",
       "      <td>32</td>\n",
       "      <td>1000</td>\n",
       "      <td>16.0</td>\n",
       "    </tr>\n",
       "    <tr>\n",
       "      <th>1293</th>\n",
       "      <td>16</td>\n",
       "      <td>512</td>\n",
       "      <td>15.6</td>\n",
       "    </tr>\n",
       "    <tr>\n",
       "      <th>1294</th>\n",
       "      <td>16</td>\n",
       "      <td>512</td>\n",
       "      <td>14.0</td>\n",
       "    </tr>\n",
       "    <tr>\n",
       "      <th>1295</th>\n",
       "      <td>16</td>\n",
       "      <td>512</td>\n",
       "      <td>14.0</td>\n",
       "    </tr>\n",
       "  </tbody>\n",
       "</table>\n",
       "<p>1296 rows × 3 columns</p>\n",
       "</div>"
      ],
      "text/plain": [
       "      ram  storage  screen\n",
       "0      32     1000    15.6\n",
       "1       4       64    14.1\n",
       "2      32     1000    14.0\n",
       "3      16      512    13.3\n",
       "4      32     1000    16.0\n",
       "...   ...      ...     ...\n",
       "1291    8      256    14.0\n",
       "1292   32     1000    16.0\n",
       "1293   16      512    15.6\n",
       "1294   16      512    14.0\n",
       "1295   16      512    14.0\n",
       "\n",
       "[1296 rows x 3 columns]"
      ]
     },
     "execution_count": 26,
     "metadata": {},
     "output_type": "execute_result"
    }
   ],
   "source": [
    "df_train"
   ]
  },
  {
   "cell_type": "code",
   "execution_count": null,
   "id": "720af27f-2c9f-4a21-8bf8-2b9a661bd284",
   "metadata": {},
   "outputs": [],
   "source": []
  },
  {
   "cell_type": "markdown",
   "id": "b256e351-6811-43a4-89ae-2b2b35b9f059",
   "metadata": {},
   "source": [
    "## Fill missing values with ZERO and train linear regression"
   ]
  },
  {
   "cell_type": "code",
   "execution_count": 27,
   "id": "9e923f11-4e8d-4e54-a70e-8c29fc4fbb5e",
   "metadata": {},
   "outputs": [],
   "source": [
    "def train_linear_regression(X, y):\n",
    "    ones = np.ones(X.shape[0])\n",
    "    X = np.column_stack([ones, X])\n",
    "    XTX = X.T.dot(X) \n",
    "    XTX_inv = np.linalg.inv(XTX)\n",
    "    w_full = XTX_inv.dot(X.T).dot(y)\n",
    "\n",
    "    return w_full[0], w_full[1:]"
   ]
  },
  {
   "cell_type": "code",
   "execution_count": 28,
   "id": "d73f7c1c-b115-4ee9-ab33-a34695f099c5",
   "metadata": {},
   "outputs": [
    {
     "data": {
      "text/plain": [
       "(nan, array([nan, nan, nan]))"
      ]
     },
     "execution_count": 28,
     "metadata": {},
     "output_type": "execute_result"
    }
   ],
   "source": [
    "train_linear_regression(df_train, y_train)"
   ]
  },
  {
   "cell_type": "code",
   "execution_count": 29,
   "id": "27c35c8d-2015-45b3-aa01-2909bc12effc",
   "metadata": {},
   "outputs": [
    {
     "data": {
      "text/plain": [
       "array([[  32. , 1000. ,   15.6],\n",
       "       [   4. ,   64. ,   14.1],\n",
       "       [  32. , 1000. ,   14. ],\n",
       "       ...,\n",
       "       [  16. ,  512. ,   15.6],\n",
       "       [  16. ,  512. ,   14. ],\n",
       "       [  16. ,  512. ,   14. ]])"
      ]
     },
     "execution_count": 29,
     "metadata": {},
     "output_type": "execute_result"
    }
   ],
   "source": [
    "# we got nan because df_train contains some zero values. Lets replace them with 0s and retry\n",
    "df_train.columns\n",
    "base = ['ram', 'storage', 'screen']\n",
    "X_train = df_train[base].fillna(0).values\n",
    "X_train"
   ]
  },
  {
   "cell_type": "code",
   "execution_count": 30,
   "id": "77c18540-4bf5-43c3-80ac-167f9f8b7604",
   "metadata": {},
   "outputs": [
    {
     "data": {
      "text/plain": [
       "(6.7271637061124805, array([ 0.02630589,  0.00066041, -0.03651909]))"
      ]
     },
     "execution_count": 30,
     "metadata": {},
     "output_type": "execute_result"
    }
   ],
   "source": [
    "# now run the training this time using X_train\n",
    "W0, w = train_linear_regression(X_train, y_train)\n",
    "W0, w"
   ]
  },
  {
   "cell_type": "code",
   "execution_count": 31,
   "id": "09017ab4-c2de-4225-9f3c-1c283f70bef7",
   "metadata": {},
   "outputs": [
    {
     "data": {
      "text/plain": [
       "array([7.65966079, 6.35973416, 7.71809133, ..., 6.91648826, 6.9749188 ,\n",
       "       6.9749188 ])"
      ]
     },
     "execution_count": 31,
     "metadata": {},
     "output_type": "execute_result"
    }
   ],
   "source": [
    "y_pred = W0 + X_train.dot(w)\n",
    "y_pred"
   ]
  },
  {
   "cell_type": "code",
   "execution_count": 32,
   "id": "9387af59-7759-43c1-9ed9-c663634c857f",
   "metadata": {},
   "outputs": [
    {
     "data": {
      "image/png": "[encoded data removed]",
      "text/plain": [
       "<Figure size 640x480 with 1 Axes>"
      ]
     },
     "metadata": {},
     "output_type": "display_data"
    }
   ],
   "source": [
    "# now lets compare y_pred and y_train to see how good is our prediction\n",
    "sns.histplot(y_pred, color = 'red', alpha= 0.5, bins = 50)\n",
    "sns.histplot(y_train, color = 'blue', alpha= 0.5, bins = 50)\n",
    "plt.show()\n"
   ]
  },
  {
   "cell_type": "code",
   "execution_count": 33,
   "id": "904df6ed-5542-4c50-b480-2a0ffddca217",
   "metadata": {},
   "outputs": [],
   "source": [
    "## RMSE\n",
    "def rmse(y, y_pred):\n",
    "    error = y - y_pred\n",
    "    se = error ** 2\n",
    "    mse = se.mean()\n",
    "    return np.sqrt(mse)"
   ]
  },
  {
   "cell_type": "code",
   "execution_count": 34,
   "id": "10f56be5-13f2-4996-a2d0-2a4185b7c5cd",
   "metadata": {},
   "outputs": [
    {
     "data": {
      "text/plain": [
       "0.44632651855038796"
      ]
     },
     "execution_count": 34,
     "metadata": {},
     "output_type": "execute_result"
    }
   ],
   "source": [
    "rmse(y_train, y_pred)"
   ]
  },
  {
   "cell_type": "code",
   "execution_count": 35,
   "id": "bc870dcd-298c-4ad3-8f80-2799041560f5",
   "metadata": {},
   "outputs": [],
   "source": [
    "def prepare_X(df):\n",
    "    df_num = df[base]\n",
    "    df_num = df_num.fillna(0)\n",
    "    X = df_num.values\n",
    "    return X"
   ]
  },
  {
   "cell_type": "code",
   "execution_count": 36,
   "id": "282525c7-5781-47c3-a21b-3972d6b08a55",
   "metadata": {},
   "outputs": [
    {
     "data": {
      "text/plain": [
       "array([[  32. , 1000. ,   15.6],\n",
       "       [   4. ,   64. ,   14.1],\n",
       "       [  32. , 1000. ,   14. ],\n",
       "       ...,\n",
       "       [  16. ,  512. ,   15.6],\n",
       "       [  16. ,  512. ,   14. ],\n",
       "       [  16. ,  512. ,   14. ]])"
      ]
     },
     "execution_count": 36,
     "metadata": {},
     "output_type": "execute_result"
    }
   ],
   "source": [
    "prepare_X(df_train)"
   ]
  },
  {
   "cell_type": "code",
   "execution_count": 37,
   "id": "670e4089-b722-488c-9d8f-9278f339da0d",
   "metadata": {},
   "outputs": [
    {
     "data": {
      "text/plain": [
       "0.43"
      ]
     },
     "execution_count": 37,
     "metadata": {},
     "output_type": "execute_result"
    }
   ],
   "source": [
    "X_train = prepare_X(df_train)\n",
    "w0, w = train_linear_regression(X_train, y_train)\n",
    "\n",
    "X_val = prepare_X(df_val)\n",
    "y_pred = w0 + X_val.dot(w)\n",
    "\n",
    "score = round(rmse(y_val, y_pred),2)\n",
    "score"
   ]
  },
  {
   "cell_type": "markdown",
   "id": "0bc6683f-d4c2-4a58-96ac-9ac2a70c9500",
   "metadata": {},
   "source": [
    "## Fill missing values with median and train linear regression"
   ]
  },
  {
   "cell_type": "code",
   "execution_count": 38,
   "id": "479612cf-b6c7-41a5-b4fe-03de2b4e20b3",
   "metadata": {},
   "outputs": [
    {
     "data": {
      "text/plain": [
       "15.163534416086618"
      ]
     },
     "execution_count": 38,
     "metadata": {},
     "output_type": "execute_result"
    }
   ],
   "source": [
    "mean = df_train.screen.mean()\n",
    "mean"
   ]
  },
  {
   "cell_type": "code",
   "execution_count": 39,
   "id": "346e2b6a-c496-4e32-bccd-dddaef3ed97d",
   "metadata": {},
   "outputs": [],
   "source": [
    "def prepare_X(df, mean):\n",
    "    df_num = df[base]\n",
    "    df_num = df_num.fillna(mean)\n",
    "    X = df_num.values\n",
    "    return X"
   ]
  },
  {
   "cell_type": "code",
   "execution_count": 40,
   "id": "0031395b-0c3b-4d06-90c0-36eaa30b71ba",
   "metadata": {},
   "outputs": [
    {
     "data": {
      "text/plain": [
       "0.43"
      ]
     },
     "execution_count": 40,
     "metadata": {},
     "output_type": "execute_result"
    }
   ],
   "source": [
    "X_train = prepare_X(df_train, mean)\n",
    "w0, w = train_linear_regression(X_train, y_train)\n",
    "\n",
    "X_val = prepare_X(df_val, mean)\n",
    "y_pred = w0 + X_val.dot(w)\n",
    "\n",
    "score_mean = round(rmse(y_val, y_pred),2)\n",
    "score_mean"
   ]
  },
  {
   "cell_type": "code",
   "execution_count": 41,
   "id": "173050a5-8563-4c51-8722-30bbc3789969",
   "metadata": {},
   "outputs": [
    {
     "data": {
      "text/plain": [
       "(0.43, 0.43)"
      ]
     },
     "execution_count": 41,
     "metadata": {},
     "output_type": "execute_result"
    }
   ],
   "source": [
    "score, score_mean"
   ]
  },
  {
   "cell_type": "code",
   "execution_count": 42,
   "id": "24a1c78b-984c-4f7b-92ae-de5f60f9d332",
   "metadata": {},
   "outputs": [],
   "source": [
    "# For question 3, answer is c that is Both are equally good"
   ]
  },
  {
   "cell_type": "code",
   "execution_count": 43,
   "id": "b263751a-dd64-4e22-93d3-4787897af91d",
   "metadata": {},
   "outputs": [],
   "source": [
    "# Question 4 "
   ]
  },
  {
   "cell_type": "code",
   "execution_count": 44,
   "id": "06a2c2dd-1525-4da8-bf40-9c6c6349bed4",
   "metadata": {},
   "outputs": [],
   "source": [
    "def prepare_X(data):\n",
    "    df1 = data.copy()  # Copy over original data set so that the function wont modify its contents\n",
    "    features = base.copy()\n",
    "    df1_num = df1[features]\n",
    "    df1_num = df1_num.fillna(0)\n",
    "    return df1_num.values"
   ]
  },
  {
   "cell_type": "code",
   "execution_count": 45,
   "id": "b657ad69-2b35-4b78-b446-e8e2a1ab212e",
   "metadata": {},
   "outputs": [],
   "source": [
    "# Train linear regression with regularization\n",
    "\n",
    "def train_linear_regression_reg(X, y, r=0.001):\n",
    "    ones = np.ones(X.shape[0])\n",
    "    X = np.column_stack([ones, X])\n",
    "    \n",
    "    XTX = X.T.dot(X)\n",
    "    XTX = XTX + r * np.eye(XTX.shape[0])\n",
    "    \n",
    "    XTX_inv = np.linalg.inv(XTX)\n",
    "    w_full = XTX_inv.dot(X.T).dot(y)\n",
    "\n",
    "    return w_full[0], w_full[1:]\n",
    "    "
   ]
  },
  {
   "cell_type": "code",
   "execution_count": 46,
   "id": "363f197c-60bc-483f-8c78-20e1f5f3d79f",
   "metadata": {},
   "outputs": [
    {
     "data": {
      "text/plain": [
       "0.43"
      ]
     },
     "execution_count": 46,
     "metadata": {},
     "output_type": "execute_result"
    }
   ],
   "source": [
    "X_train = prepare_X(df_train)\n",
    "w0, w = train_linear_regression_reg(X_train, y_train, r=0.01)\n",
    "\n",
    "X_val = prepare_X(df_val)\n",
    "y_pred = w0 + X_val.dot(w)\n",
    "\n",
    "score = rmse(y_val, y_pred)\n",
    "score = round(score,2)\n",
    "score"
   ]
  },
  {
   "cell_type": "code",
   "execution_count": 47,
   "id": "381b1b9e-2140-409f-82e6-1523d07491ba",
   "metadata": {},
   "outputs": [
    {
     "name": "stdout",
     "output_type": "stream",
     "text": [
      "reg parameter:  0 bias term:  6.7271637061124805 rmse:  0.43\n",
      "reg parameter:  0.01 bias term:  6.721004333260219 rmse:  0.43\n",
      "reg parameter:  0.1 bias term:  6.666075503828108 rmse:  0.43\n",
      "reg parameter:  1 bias term:  6.162616499461252 rmse:  0.43\n",
      "reg parameter:  5 bias term:  4.616086176497313 rmse:  0.46\n",
      "reg parameter:  10 bias term:  3.5167547207936254 rmse:  0.51\n",
      "reg parameter:  100 bias term:  0.6849263362660136 rmse:  0.67\n"
     ]
    }
   ],
   "source": [
    "for r in [0, 0.01, 0.1, 1, 5, 10, 100]:\n",
    "    X_train = prepare_X(df_train)\n",
    "    w0, w = train_linear_regression_reg(X_train, y_train, r)\n",
    "    \n",
    "    X_val = prepare_X(df_val)\n",
    "    y_pred = w0 + X_val.dot(w)\n",
    "    \n",
    "    score = rmse(y_val, y_pred)\n",
    "    score = round(score, 2)\n",
    "    print(\"reg parameter: \",r, \"bias term: \",w0, \"rmse: \",score)"
   ]
  },
  {
   "cell_type": "code",
   "execution_count": 48,
   "id": "cd9fa6ac-ba00-4e7d-a86a-8e562bd2776f",
   "metadata": {},
   "outputs": [],
   "source": [
    "# Answer for question 4 is 0. That is r value of 0 gives best RMSE`"
   ]
  },
  {
   "cell_type": "code",
   "execution_count": 49,
   "id": "4f74e037-d59e-4f2b-a1b3-5299d20a51ae",
   "metadata": {},
   "outputs": [],
   "source": [
    "total = len(df)\n",
    "n_val = int(total * 0.2)\n",
    "n_test = int(total * 0.2)\n",
    "n_train = total - (n_val + n_test)\n",
    "\n"
   ]
  },
  {
   "cell_type": "code",
   "execution_count": 50,
   "id": "45e98c69-4785-4c96-a6a4-760b389c288e",
   "metadata": {},
   "outputs": [
    {
     "data": {
      "text/html": [
       "<div>\n",
       "<style scoped>\n",
       "    .dataframe tbody tr th:only-of-type {\n",
       "        vertical-align: middle;\n",
       "    }\n",
       "\n",
       "    .dataframe tbody tr th {\n",
       "        vertical-align: top;\n",
       "    }\n",
       "\n",
       "    .dataframe thead th {\n",
       "        text-align: right;\n",
       "    }\n",
       "</style>\n",
       "<table border=\"1\" class=\"dataframe\">\n",
       "  <thead>\n",
       "    <tr style=\"text-align: right;\">\n",
       "      <th></th>\n",
       "      <th>ram</th>\n",
       "      <th>storage</th>\n",
       "      <th>screen</th>\n",
       "      <th>final_price</th>\n",
       "    </tr>\n",
       "  </thead>\n",
       "  <tbody>\n",
       "    <tr>\n",
       "      <th>0</th>\n",
       "      <td>8</td>\n",
       "      <td>512</td>\n",
       "      <td>15.6</td>\n",
       "      <td>1009.00</td>\n",
       "    </tr>\n",
       "    <tr>\n",
       "      <th>1</th>\n",
       "      <td>8</td>\n",
       "      <td>256</td>\n",
       "      <td>15.6</td>\n",
       "      <td>299.00</td>\n",
       "    </tr>\n",
       "    <tr>\n",
       "      <th>2</th>\n",
       "      <td>8</td>\n",
       "      <td>256</td>\n",
       "      <td>15.6</td>\n",
       "      <td>789.00</td>\n",
       "    </tr>\n",
       "    <tr>\n",
       "      <th>3</th>\n",
       "      <td>16</td>\n",
       "      <td>1000</td>\n",
       "      <td>15.6</td>\n",
       "      <td>1199.00</td>\n",
       "    </tr>\n",
       "    <tr>\n",
       "      <th>4</th>\n",
       "      <td>16</td>\n",
       "      <td>512</td>\n",
       "      <td>15.6</td>\n",
       "      <td>669.01</td>\n",
       "    </tr>\n",
       "    <tr>\n",
       "      <th>...</th>\n",
       "      <td>...</td>\n",
       "      <td>...</td>\n",
       "      <td>...</td>\n",
       "      <td>...</td>\n",
       "    </tr>\n",
       "    <tr>\n",
       "      <th>2155</th>\n",
       "      <td>16</td>\n",
       "      <td>1000</td>\n",
       "      <td>17.3</td>\n",
       "      <td>2699.99</td>\n",
       "    </tr>\n",
       "    <tr>\n",
       "      <th>2156</th>\n",
       "      <td>16</td>\n",
       "      <td>1000</td>\n",
       "      <td>17.3</td>\n",
       "      <td>2899.99</td>\n",
       "    </tr>\n",
       "    <tr>\n",
       "      <th>2157</th>\n",
       "      <td>32</td>\n",
       "      <td>1000</td>\n",
       "      <td>17.3</td>\n",
       "      <td>3399.99</td>\n",
       "    </tr>\n",
       "    <tr>\n",
       "      <th>2158</th>\n",
       "      <td>16</td>\n",
       "      <td>1000</td>\n",
       "      <td>13.4</td>\n",
       "      <td>1899.99</td>\n",
       "    </tr>\n",
       "    <tr>\n",
       "      <th>2159</th>\n",
       "      <td>16</td>\n",
       "      <td>256</td>\n",
       "      <td>13.4</td>\n",
       "      <td>1699.99</td>\n",
       "    </tr>\n",
       "  </tbody>\n",
       "</table>\n",
       "<p>2160 rows × 4 columns</p>\n",
       "</div>"
      ],
      "text/plain": [
       "      ram  storage  screen  final_price\n",
       "0       8      512    15.6      1009.00\n",
       "1       8      256    15.6       299.00\n",
       "2       8      256    15.6       789.00\n",
       "3      16     1000    15.6      1199.00\n",
       "4      16      512    15.6       669.01\n",
       "...   ...      ...     ...          ...\n",
       "2155   16     1000    17.3      2699.99\n",
       "2156   16     1000    17.3      2899.99\n",
       "2157   32     1000    17.3      3399.99\n",
       "2158   16     1000    13.4      1899.99\n",
       "2159   16      256    13.4      1699.99\n",
       "\n",
       "[2160 rows x 4 columns]"
      ]
     },
     "execution_count": 50,
     "metadata": {},
     "output_type": "execute_result"
    }
   ],
   "source": [
    "df"
   ]
  },
  {
   "cell_type": "code",
   "execution_count": 61,
   "id": "152d0658-bc58-4d82-af98-da91665d42ef",
   "metadata": {},
   "outputs": [
    {
     "data": {
      "text/plain": [
       "Index(['laptop', 'status', 'brand', 'model', 'cpu', 'ram', 'storage',\n",
       "       'storage_type', 'gpu', 'screen', 'touch', 'final_price'],\n",
       "      dtype='object')"
      ]
     },
     "execution_count": 61,
     "metadata": {},
     "output_type": "execute_result"
    }
   ],
   "source": [
    "df = pd.read_csv('laptops.csv')\n",
    "df.head()\n",
    "total = len(df)\n",
    "df.columns = df.columns.str.lower().str.replace(' ','_')\n",
    "df.columns"
   ]
  },
  {
   "cell_type": "code",
   "execution_count": 81,
   "id": "7933199e-0030-455d-b0a3-0e5ac44d70ff",
   "metadata": {},
   "outputs": [],
   "source": [
    "#Question 5\n",
    "def shuffle_data(seed_nbr):\n",
    "    idx = np.arange(total)\n",
    "    np.random.seed(seed_nbr)\n",
    "    np.random.shuffle(idx)\n",
    "    \n",
    "    # Split the data\n",
    "    df_train = df.iloc[idx[:n_train]]\n",
    "    df_val = df.iloc[idx[n_train:n_train + n_val]]\n",
    "    df_test = df.iloc[idx[n_train + n_val : ]]\n",
    "    \n",
    "    y_train = np.log1p(df_train.final_price.values)\n",
    "    y_val = np.log1p(df_val.final_price.values)\n",
    "    y_test = np.log1p(df_test.final_price.values)\n",
    "    \n",
    "    del df_train['final_price']\n",
    "    del df_test['final_price']\n",
    "    del df_val['final_price']\n",
    "    return df_train, df_val, y_train, y_val\n",
    "    \n",
    "def train_the_model(dataset, seed_val):\n",
    "    # df_train, df_val, y_train, y_val = shuffle_data(seed_val)\n",
    "\n",
    "    idx = np.arange(total)\n",
    "    np.random.seed(seed_val)\n",
    "    np.random.shuffle(idx)\n",
    "    \n",
    "    # Split the data\n",
    "    df_train = df.iloc[idx[:n_train]]\n",
    "    df_val = df.iloc[idx[n_train:n_train + n_val]]\n",
    "    df_test = df.iloc[idx[n_train + n_val : ]]\n",
    "    \n",
    "    y_train = np.log1p(df_train.final_price.values)\n",
    "    y_val = np.log1p(df_val.final_price.values)\n",
    "    y_test = np.log1p(df_test.final_price.values)\n",
    "    \n",
    "    del df_train['final_price']\n",
    "    del df_test['final_price']\n",
    "    del df_val['final_price']\n",
    "\n",
    "    X_train = prepare_X(df_train)\n",
    "    w0, w = train_linear_regression(X_train, y_train)\n",
    "\n",
    "    X_val = prepare_X(df_val)\n",
    "    y_pred = w0 + X_val.dot(w)\n",
    "    \n",
    "    return round(rmse(y_val, y_pred),3)\n",
    "\n",
    "def run_model_for_seeeds():\n",
    "    rmse_list = []\n",
    "    for s in [0, 1, 2, 3, 4, 5, 6, 7, 8, 9]:\n",
    "        val = train_the_model(df_train, s)\n",
    "        rmse_list.append(val)\n",
    "\n",
    "    return rmse_list"
   ]
  },
  {
   "cell_type": "code",
   "execution_count": 89,
   "id": "2e787891-1cba-4815-86b7-505fd3d835dc",
   "metadata": {},
   "outputs": [
    {
     "data": {
      "text/plain": [
       "0.014"
      ]
     },
     "execution_count": 89,
     "metadata": {},
     "output_type": "execute_result"
    }
   ],
   "source": [
    "rmse_values = run_model_for_seeeds()\n",
    "std = np.std(rmse_values)\n",
    "round(std, 3)\n"
   ]
  },
  {
   "cell_type": "code",
   "execution_count": 88,
   "id": "98d232db-a33d-4031-ba52-3f9fd7c1455b",
   "metadata": {},
   "outputs": [
    {
     "data": {
      "text/plain": [
       "0.013733171520082325"
      ]
     },
     "execution_count": 88,
     "metadata": {},
     "output_type": "execute_result"
    }
   ],
   "source": [
    "std = np.std(rmse_values)\n",
    "std"
   ]
  },
  {
   "cell_type": "code",
   "execution_count": 90,
   "id": "130b7a35-8fe0-4d8e-b6e1-501d4735c840",
   "metadata": {},
   "outputs": [
    {
     "data": {
      "text/plain": [
       "0.45530472280909234"
      ]
     },
     "execution_count": 90,
     "metadata": {},
     "output_type": "execute_result"
    }
   ],
   "source": [
    "# Question 5\n",
    "\n",
    "idx = np.arange(total)\n",
    "np.random.seed(9)\n",
    "np.random.shuffle(idx)\n",
    "\n",
    "# Split the data\n",
    "df_train = df.iloc[idx[:n_train]]\n",
    "df_val = df.iloc[idx[n_train:n_train + n_val]]\n",
    "df_test = df.iloc[idx[n_train + n_val : ]]\n",
    "\n",
    "y_train = np.log1p(df_train.final_price.values)\n",
    "y_val = np.log1p(df_val.final_price.values)\n",
    "y_test = np.log1p(df_test.final_price.values)\n",
    "\n",
    "del df_train['final_price']\n",
    "del df_test['final_price']\n",
    "del df_val['final_price']\n",
    "\n",
    "# Combine train & val datasets\n",
    "df_full_train = pd.concat([df_train, df_val])\n",
    "y_full_train = np.concatenate([y_train, y_val])\n",
    "\n",
    "X_full_train = prepare_X(df_full_train)\n",
    "\n",
    "w0, w = train_linear_regression_reg(X_full_train, y_full_train, 0.001)\n",
    "\n",
    "X_test = prepare_X(df_test) \n",
    "\n",
    "y_full_pred = w0 + X_test.dot(w)\n",
    "\n",
    "score = rmse(y_test, y_full_pred)\n",
    "score\n"
   ]
  }
 ],
 "metadata": {
  "kernelspec": {
   "display_name": "Python 3 (ipykernel)",
   "language": "python",
   "name": "python3"
  },
  "language_info": {
   "codemirror_mode": {
    "name": "ipython",
    "version": 3
   },
   "file_extension": ".py",
   "mimetype": "text/x-python",
   "name": "python",
   "nbconvert_exporter": "python",
   "pygments_lexer": "ipython3",
   "version": "3.12.4"
  }
 },
 "nbformat": 4,
 "nbformat_minor": 5
}
