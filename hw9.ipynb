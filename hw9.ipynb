{
 "cells": [
  {
   "cell_type": "code",
   "execution_count": 6,
   "id": "de633c6c-aaef-4578-b0ad-31facc3e4985",
   "metadata": {
    "execution": {
     "iopub.execute_input": "2024-12-12T10:57:46.690369Z",
     "iopub.status.busy": "2024-12-12T10:57:46.690006Z",
     "iopub.status.idle": "2024-12-12T10:57:46.693329Z",
     "shell.execute_reply": "2024-12-12T10:57:46.692676Z",
     "shell.execute_reply.started": "2024-12-12T10:57:46.690323Z"
    }
   },
   "outputs": [],
   "source": [
    "import tensorflow as tf"
   ]
  },
  {
   "cell_type": "code",
   "execution_count": 7,
   "id": "d08bd146-695e-4fc1-ad23-bd62928741bf",
   "metadata": {
    "execution": {
     "iopub.execute_input": "2024-12-12T10:57:50.391571Z",
     "iopub.status.busy": "2024-12-12T10:57:50.391231Z",
     "iopub.status.idle": "2024-12-12T10:57:50.397689Z",
     "shell.execute_reply": "2024-12-12T10:57:50.397120Z",
     "shell.execute_reply.started": "2024-12-12T10:57:50.391550Z"
    }
   },
   "outputs": [
    {
     "data": {
      "text/plain": [
       "'2.18.0'"
      ]
     },
     "execution_count": 7,
     "metadata": {},
     "output_type": "execute_result"
    }
   ],
   "source": [
    "tf.__version__"
   ]
  },
  {
   "cell_type": "code",
   "execution_count": 8,
   "id": "d0f2fa4c-9c79-4717-953c-3977b3751280",
   "metadata": {
    "execution": {
     "iopub.execute_input": "2024-12-12T10:57:52.473067Z",
     "iopub.status.busy": "2024-12-12T10:57:52.472726Z",
     "iopub.status.idle": "2024-12-12T10:57:52.476122Z",
     "shell.execute_reply": "2024-12-12T10:57:52.475487Z",
     "shell.execute_reply.started": "2024-12-12T10:57:52.473047Z"
    }
   },
   "outputs": [],
   "source": [
    "from tensorflow import keras"
   ]
  },
  {
   "cell_type": "code",
   "execution_count": 3,
   "id": "cb4291f6-131f-4e30-a5b4-5663a2562b3b",
   "metadata": {
    "execution": {
     "iopub.execute_input": "2024-12-12T10:56:38.866063Z",
     "iopub.status.busy": "2024-12-12T10:56:38.865703Z",
     "iopub.status.idle": "2024-12-12T10:56:40.553238Z",
     "shell.execute_reply": "2024-12-12T10:56:40.552724Z",
     "shell.execute_reply.started": "2024-12-12T10:56:38.866036Z"
    }
   },
   "outputs": [
    {
     "name": "stderr",
     "output_type": "stream",
     "text": [
      "I0000 00:00:1734000999.131078     421 gpu_device.cc:2022] Created device /job:localhost/replica:0/task:0/device:GPU:0 with 13942 MB memory:  -> device: 0, name: Tesla T4, pci bus id: 0000:00:1e.0, compute capability: 7.5\n"
     ]
    }
   ],
   "source": [
    "model = keras.models.load_model('model_2024_hairstyle.keras')"
   ]
  },
  {
   "cell_type": "code",
   "execution_count": 4,
   "id": "b3dbc958-df1e-46d4-bc93-b633d8144b0c",
   "metadata": {
    "execution": {
     "iopub.execute_input": "2024-12-12T10:57:12.897553Z",
     "iopub.status.busy": "2024-12-12T10:57:12.897205Z",
     "iopub.status.idle": "2024-12-12T10:57:12.901816Z",
     "shell.execute_reply": "2024-12-12T10:57:12.901330Z",
     "shell.execute_reply.started": "2024-12-12T10:57:12.897531Z"
    }
   },
   "outputs": [],
   "source": [
    "import numpy as np\n",
    "from keras.preprocessing.image import load_img\n",
    "from keras.applications.xception import preprocess_input\n"
   ]
  },
  {
   "cell_type": "code",
   "execution_count": 9,
   "id": "13e94915-bac0-41d1-979e-f339a772ce43",
   "metadata": {
    "execution": {
     "iopub.execute_input": "2024-12-12T10:57:57.729248Z",
     "iopub.status.busy": "2024-12-12T10:57:57.728909Z",
     "iopub.status.idle": "2024-12-12T10:58:01.488009Z",
     "shell.execute_reply": "2024-12-12T10:58:01.487373Z",
     "shell.execute_reply.started": "2024-12-12T10:57:57.729227Z"
    }
   },
   "outputs": [
    {
     "name": "stdout",
     "output_type": "stream",
     "text": [
      "INFO:tensorflow:Assets written to: /tmp/tmplths7w7d/assets\n"
     ]
    },
    {
     "name": "stderr",
     "output_type": "stream",
     "text": [
      "INFO:tensorflow:Assets written to: /tmp/tmplths7w7d/assets\n"
     ]
    },
    {
     "name": "stdout",
     "output_type": "stream",
     "text": [
      "Saved artifact at '/tmp/tmplths7w7d'. The following endpoints are available:\n",
      "\n",
      "* Endpoint 'serve'\n",
      "  args_0 (POSITIONAL_ONLY): TensorSpec(shape=(None, 200, 200, 3), dtype=tf.float32, name='input_layer')\n",
      "Output Type:\n",
      "  TensorSpec(shape=(None, 1), dtype=tf.float32, name=None)\n",
      "Captures:\n",
      "  140093440910224: TensorSpec(shape=(), dtype=tf.resource, name=None)\n",
      "  140093440912528: TensorSpec(shape=(), dtype=tf.resource, name=None)\n",
      "  140093440912336: TensorSpec(shape=(), dtype=tf.resource, name=None)\n",
      "  140093440914256: TensorSpec(shape=(), dtype=tf.resource, name=None)\n",
      "  140093440915408: TensorSpec(shape=(), dtype=tf.resource, name=None)\n",
      "  140093440915984: TensorSpec(shape=(), dtype=tf.resource, name=None)\n"
     ]
    },
    {
     "name": "stderr",
     "output_type": "stream",
     "text": [
      "WARNING: All log messages before absl::InitializeLog() is called are written to STDERR\n",
      "W0000 00:00:1734001078.516916     421 tf_tfl_flatbuffer_helpers.cc:365] Ignored output_format.\n",
      "W0000 00:00:1734001078.516943     421 tf_tfl_flatbuffer_helpers.cc:368] Ignored drop_control_dependency.\n",
      "2024-12-12 10:57:58.517649: I tensorflow/cc/saved_model/reader.cc:83] Reading SavedModel from: /tmp/tmplths7w7d\n",
      "2024-12-12 10:57:58.518189: I tensorflow/cc/saved_model/reader.cc:52] Reading meta graph with tags { serve }\n",
      "2024-12-12 10:57:58.518205: I tensorflow/cc/saved_model/reader.cc:147] Reading SavedModel debug info (if present) from: /tmp/tmplths7w7d\n",
      "I0000 00:00:1734001078.522097     421 mlir_graph_optimization_pass.cc:401] MLIR V1 optimization pass is not enabled\n",
      "2024-12-12 10:57:58.522864: I tensorflow/cc/saved_model/loader.cc:236] Restoring SavedModel bundle.\n",
      "2024-12-12 10:57:58.622204: I tensorflow/cc/saved_model/loader.cc:220] Running initialization op on SavedModel bundle at path: /tmp/tmplths7w7d\n",
      "2024-12-12 10:57:58.630558: I tensorflow/cc/saved_model/loader.cc:466] SavedModel load for tags { serve }; Status: success: OK. Took 112912 microseconds.\n",
      "2024-12-12 10:57:58.639139: I tensorflow/compiler/mlir/tensorflow/utils/dump_mlir_util.cc:268] disabling MLIR crash reproducer, set env var `MLIR_CRASH_REPRODUCER_DIRECTORY` to enable.\n"
     ]
    }
   ],
   "source": [
    "converter = tf.lite.TFLiteConverter.from_keras_model(model)\n",
    " \n",
    "tflite_model = converter.convert()\n",
    " "
   ]
  },
  {
   "cell_type": "code",
   "execution_count": 10,
   "id": "9591632a-3aa0-4540-8016-44b64863b2a2",
   "metadata": {
    "execution": {
     "iopub.execute_input": "2024-12-12T10:58:31.267705Z",
     "iopub.status.busy": "2024-12-12T10:58:31.267365Z",
     "iopub.status.idle": "2024-12-12T10:58:31.320779Z",
     "shell.execute_reply": "2024-12-12T10:58:31.320166Z",
     "shell.execute_reply.started": "2024-12-12T10:58:31.267683Z"
    }
   },
   "outputs": [],
   "source": [
    "with open('lightmodel.tflite', 'wb') as f_out:\n",
    "    f_out.write(tflite_model)"
   ]
  },
  {
   "cell_type": "code",
   "execution_count": 13,
   "id": "6dd5ed48-9445-4273-9077-b98d7029f8e0",
   "metadata": {
    "execution": {
     "iopub.execute_input": "2024-12-12T11:01:38.782539Z",
     "iopub.status.busy": "2024-12-12T11:01:38.782169Z",
     "iopub.status.idle": "2024-12-12T11:01:38.804928Z",
     "shell.execute_reply": "2024-12-12T11:01:38.804261Z",
     "shell.execute_reply.started": "2024-12-12T11:01:38.782515Z"
    }
   },
   "outputs": [],
   "source": [
    "import tensorflow.lite as tflite\n",
    "interpreter = tflite.Interpreter(model_path='lightmodel.tflite')"
   ]
  },
  {
   "cell_type": "code",
   "execution_count": 14,
   "id": "9aa139d2-a514-44c9-a20d-2650c7ed4d9c",
   "metadata": {
    "execution": {
     "iopub.execute_input": "2024-12-12T11:01:56.561214Z",
     "iopub.status.busy": "2024-12-12T11:01:56.560874Z",
     "iopub.status.idle": "2024-12-12T11:01:56.634025Z",
     "shell.execute_reply": "2024-12-12T11:01:56.633287Z",
     "shell.execute_reply.started": "2024-12-12T11:01:56.561192Z"
    }
   },
   "outputs": [
    {
     "name": "stderr",
     "output_type": "stream",
     "text": [
      "INFO: Created TensorFlow Lite XNNPACK delegate for CPU.\n"
     ]
    }
   ],
   "source": [
    "interpreter.allocate_tensors()"
   ]
  },
  {
   "cell_type": "code",
   "execution_count": 15,
   "id": "2b19077e-355e-4a2d-8a37-542fb1827c14",
   "metadata": {
    "execution": {
     "iopub.execute_input": "2024-12-12T11:02:10.905151Z",
     "iopub.status.busy": "2024-12-12T11:02:10.904807Z",
     "iopub.status.idle": "2024-12-12T11:02:10.910192Z",
     "shell.execute_reply": "2024-12-12T11:02:10.909693Z",
     "shell.execute_reply.started": "2024-12-12T11:02:10.905130Z"
    }
   },
   "outputs": [
    {
     "data": {
      "text/plain": [
       "[{'name': 'serving_default_input_layer:0',\n",
       "  'index': 0,\n",
       "  'shape': array([  1, 200, 200,   3], dtype=int32),\n",
       "  'shape_signature': array([ -1, 200, 200,   3], dtype=int32),\n",
       "  'dtype': numpy.float32,\n",
       "  'quantization': (0.0, 0),\n",
       "  'quantization_parameters': {'scales': array([], dtype=float32),\n",
       "   'zero_points': array([], dtype=int32),\n",
       "   'quantized_dimension': 0},\n",
       "  'sparsity_parameters': {}}]"
      ]
     },
     "execution_count": 15,
     "metadata": {},
     "output_type": "execute_result"
    }
   ],
   "source": [
    "interpreter.get_input_details()"
   ]
  },
  {
   "cell_type": "code",
   "execution_count": 16,
   "id": "a18fe892-04c2-4dd5-9e88-71a6bd4a3532",
   "metadata": {
    "execution": {
     "iopub.execute_input": "2024-12-12T11:02:34.129571Z",
     "iopub.status.busy": "2024-12-12T11:02:34.129244Z",
     "iopub.status.idle": "2024-12-12T11:02:34.133648Z",
     "shell.execute_reply": "2024-12-12T11:02:34.133048Z",
     "shell.execute_reply.started": "2024-12-12T11:02:34.129549Z"
    }
   },
   "outputs": [
    {
     "data": {
      "text/plain": [
       "0"
      ]
     },
     "execution_count": 16,
     "metadata": {},
     "output_type": "execute_result"
    }
   ],
   "source": [
    "interpreter.get_input_details()[0]['index']"
   ]
  },
  {
   "cell_type": "code",
   "execution_count": 17,
   "id": "7bff0699-5326-4750-88a4-000fb09613f2",
   "metadata": {
    "execution": {
     "iopub.execute_input": "2024-12-12T11:02:58.586644Z",
     "iopub.status.busy": "2024-12-12T11:02:58.586279Z",
     "iopub.status.idle": "2024-12-12T11:02:58.591326Z",
     "shell.execute_reply": "2024-12-12T11:02:58.590777Z",
     "shell.execute_reply.started": "2024-12-12T11:02:58.586620Z"
    }
   },
   "outputs": [
    {
     "data": {
      "text/plain": [
       "[{'name': 'StatefulPartitionedCall_1:0',\n",
       "  'index': 13,\n",
       "  'shape': array([1, 1], dtype=int32),\n",
       "  'shape_signature': array([-1,  1], dtype=int32),\n",
       "  'dtype': numpy.float32,\n",
       "  'quantization': (0.0, 0),\n",
       "  'quantization_parameters': {'scales': array([], dtype=float32),\n",
       "   'zero_points': array([], dtype=int32),\n",
       "   'quantized_dimension': 0},\n",
       "  'sparsity_parameters': {}}]"
      ]
     },
     "execution_count": 17,
     "metadata": {},
     "output_type": "execute_result"
    }
   ],
   "source": [
    "interpreter.get_output_details()"
   ]
  },
  {
   "cell_type": "code",
   "execution_count": 18,
   "id": "4656419d-f3fa-4f5d-b57f-7fe6864b1e03",
   "metadata": {
    "execution": {
     "iopub.execute_input": "2024-12-12T11:03:10.475438Z",
     "iopub.status.busy": "2024-12-12T11:03:10.475096Z",
     "iopub.status.idle": "2024-12-12T11:03:10.479396Z",
     "shell.execute_reply": "2024-12-12T11:03:10.478809Z",
     "shell.execute_reply.started": "2024-12-12T11:03:10.475415Z"
    }
   },
   "outputs": [
    {
     "data": {
      "text/plain": [
       "13"
      ]
     },
     "execution_count": 18,
     "metadata": {},
     "output_type": "execute_result"
    }
   ],
   "source": [
    "interpreter.get_output_details()[0]['index']"
   ]
  },
  {
   "cell_type": "code",
   "execution_count": 19,
   "id": "94f2fdde-c52b-4a61-81fb-99789adf55e3",
   "metadata": {
    "execution": {
     "iopub.execute_input": "2024-12-12T11:04:03.452244Z",
     "iopub.status.busy": "2024-12-12T11:04:03.451905Z",
     "iopub.status.idle": "2024-12-12T11:04:04.831152Z",
     "shell.execute_reply": "2024-12-12T11:04:04.830428Z",
     "shell.execute_reply.started": "2024-12-12T11:04:03.452223Z"
    }
   },
   "outputs": [
    {
     "name": "stdout",
     "output_type": "stream",
     "text": [
      "Requirement already satisfied: pillow in /opt/saturncloud/envs/saturn/lib/python3.12/site-packages (11.0.0)\n"
     ]
    }
   ],
   "source": [
    "!pip install pillow"
   ]
  },
  {
   "cell_type": "code",
   "execution_count": 24,
   "id": "7a0ab4c8-02fa-4cd7-b187-01365bfd6c2d",
   "metadata": {
    "execution": {
     "iopub.execute_input": "2024-12-12T11:20:00.429402Z",
     "iopub.status.busy": "2024-12-12T11:20:00.429193Z",
     "iopub.status.idle": "2024-12-12T11:20:00.435916Z",
     "shell.execute_reply": "2024-12-12T11:20:00.435415Z",
     "shell.execute_reply.started": "2024-12-12T11:20:00.429384Z"
    }
   },
   "outputs": [],
   "source": [
    "from io import BytesIO\n",
    "from urllib import request\n",
    "\n",
    "from PIL import Image\n",
    "\n",
    "def download_image(url):\n",
    "    with request.urlopen(url) as resp:\n",
    "        buffer = resp.read()\n",
    "    stream = BytesIO(buffer)\n",
    "    img = Image.open(stream)\n",
    "    return img\n",
    "\n",
    "\n",
    "def prepare_image(img, target_size):\n",
    "    if img.mode != 'RGB':\n",
    "        img = img.convert('RGB')\n",
    "    img = img.resize(target_size, Image.NEAREST)\n",
    "    return img"
   ]
  },
  {
   "cell_type": "code",
   "execution_count": null,
   "id": "de4a97a7-e8ea-41a0-860a-393e2f8879e5",
   "metadata": {},
   "outputs": [],
   "source": [
    "img = download_image('https://habrastorage.org/webt/yf/_d/ok/yf_dokzqy3vcritme8ggnzqlvwa.jpeg')\n",
    "img1 = prepare_image(img)"
   ]
  },
  {
   "cell_type": "code",
   "execution_count": null,
   "id": "1788f388-606f-4f8b-8b28-e5ba8515d3de",
   "metadata": {},
   "outputs": [],
   "source": [
    "print(img1)"
   ]
  },
  {
   "cell_type": "code",
   "execution_count": null,
   "id": "31110d95-2e6e-4ee4-bc6f-360fd68d08c3",
   "metadata": {},
   "outputs": [],
   "source": []
  }
 ],
 "metadata": {
  "kernelspec": {
   "display_name": "saturn (Python 3)",
   "language": "python",
   "name": "python3"
  },
  "language_info": {
   "codemirror_mode": {
    "name": "ipython",
    "version": 3
   },
   "file_extension": ".py",
   "mimetype": "text/x-python",
   "name": "python",
   "nbconvert_exporter": "python",
   "pygments_lexer": "ipython3",
   "version": "3.12.7"
  }
 },
 "nbformat": 4,
 "nbformat_minor": 5
}
